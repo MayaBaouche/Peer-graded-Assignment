{
 "cells": [
  {
   "cell_type": "markdown",
   "id": "96b57f60",
   "metadata": {},
   "source": [
    "# My Jupyter Notebook on IBM Watson Studio"
   ]
  },
  {
   "cell_type": "markdown",
   "id": "a454f46b",
   "metadata": {},
   "source": [
    "**Maya BAOUCHE**"
   ]
  },
  {
   "cell_type": "markdown",
   "id": "0fe3885f",
   "metadata": {},
   "source": [
    "Current position: Data Analyst; Desired position: Data Scientist"
   ]
  },
  {
   "cell_type": "markdown",
   "id": "d39115f6",
   "metadata": {},
   "source": [
    "*I am interested in data science because we can learn a lot about data by just knowing how to extract insights* "
   ]
  },
  {
   "cell_type": "markdown",
   "id": "417dbeb9",
   "metadata": {},
   "source": [
    "### In cell 5, my code is supposed to say wheter a number is even or not "
   ]
  },
  {
   "cell_type": "code",
   "execution_count": 9,
   "id": "8dbe32d1",
   "metadata": {},
   "outputs": [
    {
     "data": {
      "text/plain": [
       "True"
      ]
     },
     "execution_count": 9,
     "metadata": {},
     "output_type": "execute_result"
    }
   ],
   "source": [
    "def isEven(n):\n",
    "    return n % 2 == 0\n",
    "isEven(2)"
   ]
  },
  {
   "cell_type": "markdown",
   "id": "c3d0104b",
   "metadata": {},
   "source": [
    "1. Chocolate\n",
    "3. Flavour\n",
    "    1. Peppermint\n",
    "    2. Oreo\n",
    "\n",
    "First name | Last name \n",
    "--- | --- \n",
    "Jon | Snow \n",
    "Sansa | Stark\n",
    "\n",
    "[!!!!!!!!Click on me for googling!!!!!!!!](https://www.google.com)\n",
    "\n"
   ]
  },
  {
   "cell_type": "code",
   "execution_count": null,
   "id": "a8737624",
   "metadata": {},
   "outputs": [],
   "source": []
  }
 ],
 "metadata": {
  "kernelspec": {
   "display_name": "Python 3 (ipykernel)",
   "language": "python",
   "name": "python3"
  },
  "language_info": {
   "codemirror_mode": {
    "name": "ipython",
    "version": 3
   },
   "file_extension": ".py",
   "mimetype": "text/x-python",
   "name": "python",
   "nbconvert_exporter": "python",
   "pygments_lexer": "ipython3",
   "version": "3.11.0"
  }
 },
 "nbformat": 4,
 "nbformat_minor": 5
}
